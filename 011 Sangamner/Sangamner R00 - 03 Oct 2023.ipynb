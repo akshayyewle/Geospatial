{
 "cells": [
  {
   "cell_type": "markdown",
   "metadata": {},
   "source": [
    "# **Info**\n",
    "\n",
    "**NASA Landsat Satellites**\n",
    "* https://planetarycomputer.microsoft.com/dataset/landsat-c2-l1\n",
    "* https://planetarycomputer.microsoft.com/dataset/landsat-c2-l2"
   ]
  },
  {
   "cell_type": "markdown",
   "metadata": {},
   "source": [
    "# **Set Up**"
   ]
  },
  {
   "cell_type": "code",
   "execution_count": 10,
   "metadata": {},
   "outputs": [],
   "source": [
    "# Import Planetary Computer tools\n",
    "import pystac_client\n",
    "from pystac_client import Client\n",
    "import planetary_computer as pc\n",
    "import odc.stac\n",
    "from odc.stac import stac_load\n",
    "import rasterio.features\n",
    "from rasterio.plot import show "
   ]
  },
  {
   "cell_type": "code",
   "execution_count": 3,
   "metadata": {},
   "outputs": [],
   "source": [
    "# Configure Microsoft Planetary API\n",
    "API_Token = 'YOUR_KEY'\n",
    "\n",
    "API_Primary_Key = \"YOUR_KEY\"\n",
    "API_Secondary_Key = \"YOUR_KEY\"\n",
    "\n",
    "import planetary_computer as pc\n",
    "pc.settings.set_subscription_key(API_Primary_Key)"
   ]
  },
  {
   "cell_type": "code",
   "execution_count": 24,
   "metadata": {},
   "outputs": [],
   "source": [
    "Landsat_BBox_size_deg = 0.001"
   ]
  },
  {
   "cell_type": "markdown",
   "metadata": {},
   "source": [
    "# **Specify Location**"
   ]
  },
  {
   "cell_type": "code",
   "execution_count": 3,
   "metadata": {},
   "outputs": [
    {
     "name": "stdout",
     "output_type": "stream",
     "text": [
      "Location Coordinates:  19.549539 74.137847\n"
     ]
    }
   ],
   "source": [
    "data_00_lat = 19.549539\n",
    "data_00_lon = 74.137847\n",
    "print('Location Coordinates: ',data_00_lat,data_00_lon)"
   ]
  },
  {
   "cell_type": "code",
   "execution_count": 25,
   "metadata": {},
   "outputs": [
    {
     "name": "stdout",
     "output_type": "stream",
     "text": [
      "Bounding Box:  (74.13734699999999, 19.549039, 74.138347, 19.550038999999998)\n"
     ]
    }
   ],
   "source": [
    "# Calculate the Lat-Lon bounding box region\n",
    "min_lon_000 = data_00_lon - Landsat_BBox_size_deg/2\n",
    "max_lon_000 = data_00_lon + Landsat_BBox_size_deg/2\n",
    "min_lat_000 = data_00_lat - Landsat_BBox_size_deg/2\n",
    "max_lat_000 = data_00_lat + Landsat_BBox_size_deg/2\n",
    "bounds_000 = (min_lon_000, min_lat_000, max_lon_000, max_lat_000)\n",
    "print('Bounding Box: ',bounds_000)"
   ]
  },
  {
   "cell_type": "markdown",
   "metadata": {},
   "source": [
    "# **Specify Time**"
   ]
  },
  {
   "cell_type": "code",
   "execution_count": 21,
   "metadata": {},
   "outputs": [
    {
     "name": "stdout",
     "output_type": "stream",
     "text": [
      "1985-01-01/1985-01-31\n"
     ]
    }
   ],
   "source": [
    "Data_000_Start_Date = '1985-01-01'\n",
    "Data_000_End_Date = '1985-01-31'\n",
    "\n",
    "# Get Satellite Data Download Time Window\n",
    "Data_000_Time_Window = str(Data_000_Start_Date) + '/' + str(Data_000_End_Date)\n",
    "print(Data_000_Time_Window)"
   ]
  },
  {
   "cell_type": "markdown",
   "metadata": {},
   "source": [
    "# **Data Download**"
   ]
  },
  {
   "cell_type": "code",
   "execution_count": 14,
   "metadata": {},
   "outputs": [],
   "source": [
    "# Specify Data Source API Link & STAC\n",
    "data_source = \"https://planetarycomputer.microsoft.com/api/stac/v1\"\n",
    "stac = pystac_client.Client.open(data_source)"
   ]
  },
  {
   "cell_type": "code",
   "execution_count": 27,
   "metadata": {},
   "outputs": [
    {
     "name": "stdout",
     "output_type": "stream",
     "text": [
      "No. Of Scenes:  0\n"
     ]
    }
   ],
   "source": [
    "Data_000 = stac.search(\n",
    "                    collections='landsat-c2-l1',\n",
    "                    bbox=bounds_000,\n",
    "                    datetime=Data_000_Time_Window,\n",
    "                    max_items= None,\n",
    "                    sortby=[{\"field\":\"datetime\",\"direction\":'asc'}],\n",
    "                    # query={\"eo:cloud_cover\": {\"lt\": 25}}\n",
    "                    )\n",
    "\n",
    "print('No. Of Scenes: ',len(list(Data_000.items())))"
   ]
  }
 ],
 "metadata": {
  "kernelspec": {
   "display_name": "Python 3",
   "language": "python",
   "name": "python3"
  },
  "language_info": {
   "codemirror_mode": {
    "name": "ipython",
    "version": 3
   },
   "file_extension": ".py",
   "mimetype": "text/x-python",
   "name": "python",
   "nbconvert_exporter": "python",
   "pygments_lexer": "ipython3",
   "version": "3.10.4"
  },
  "orig_nbformat": 4
 },
 "nbformat": 4,
 "nbformat_minor": 2
}
