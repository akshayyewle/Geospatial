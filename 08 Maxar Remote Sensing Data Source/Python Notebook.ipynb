{
 "cells": [
  {
   "cell_type": "markdown",
   "metadata": {},
   "source": [
    "# **Setup**\n",
    "\n",
    "**Maxar Data**\n",
    "* https://www.maxar.com/open-data"
   ]
  },
  {
   "cell_type": "code",
   "execution_count": 35,
   "metadata": {},
   "outputs": [],
   "source": [
    "import pandas as pd \n",
    "import numpy as np \n",
    "import matplotlib.pyplot as plt\n",
    "%matplotlib inline\n",
    "\n",
    "\n",
    "import os\n",
    "import datetime as dt\n",
    "import urllib\n",
    "from IPython.display import clear_output\n",
    "import regex as re\n",
    "\n",
    "# Geospatial Packages\n",
    "import rasterio"
   ]
  },
  {
   "cell_type": "markdown",
   "metadata": {},
   "source": [
    "## **Change Directory**"
   ]
  },
  {
   "cell_type": "code",
   "execution_count": 13,
   "metadata": {},
   "outputs": [
    {
     "data": {
      "text/plain": [
       "'c:\\\\Users\\\\aksha\\\\OneDrive\\\\06 Data Science & Analytics\\\\Github\\\\Geospatial\\\\08 Maxar Remote Sensing Data Source'"
      ]
     },
     "execution_count": 13,
     "metadata": {},
     "output_type": "execute_result"
    }
   ],
   "source": [
    "# Check Current Working Directory\n",
    "os.getcwd()"
   ]
  },
  {
   "cell_type": "code",
   "execution_count": 14,
   "metadata": {},
   "outputs": [],
   "source": [
    "# Change Working Directory\n",
    "os.chdir('C:\\\\Users\\\\aksha\\\\OneDrive\\\\06 Data Science & Analytics\\\\Github\\\\Geospatial\\\\08 Maxar Remote Sensing Data Source')"
   ]
  },
  {
   "cell_type": "markdown",
   "metadata": {},
   "source": [
    "## **Create Folders**"
   ]
  },
  {
   "cell_type": "code",
   "execution_count": 16,
   "metadata": {},
   "outputs": [
    {
     "name": "stdout",
     "output_type": "stream",
     "text": [
      "No. Of Folders:  2\n"
     ]
    }
   ],
   "source": [
    "# Create Folder List \n",
    "Folder_Name_List = []\n",
    "\n",
    "# Specify Directory Folders\n",
    "folder_input_data = 'Input Data'\n",
    "folder_output_data = 'Output Data'\n",
    "\n",
    "Folder_Name_List.append(folder_input_data)\n",
    "Folder_Name_List.append(folder_output_data)\n",
    "print('No. Of Folders: ',len(Folder_Name_List))"
   ]
  },
  {
   "cell_type": "code",
   "execution_count": 17,
   "metadata": {},
   "outputs": [
    {
     "name": "stdout",
     "output_type": "stream",
     "text": [
      "Created New Folder! - Input Data\n",
      "Created New Folder! - Output Data\n"
     ]
    }
   ],
   "source": [
    "# Create Folders In Directory If Not Created\n",
    "# Required Only While Running First Time On A New System\n",
    "for folder_name in Folder_Name_List:\n",
    "    if os.path.exists(folder_name):\n",
    "        pass\n",
    "    else:\n",
    "        os.makedirs(folder_name)\n",
    "        print(f'Created New Folder! - {folder_name}')"
   ]
  },
  {
   "cell_type": "markdown",
   "metadata": {},
   "source": [
    "# **Data Import**"
   ]
  },
  {
   "cell_type": "markdown",
   "metadata": {},
   "source": [
    "## **Event Date**"
   ]
  },
  {
   "cell_type": "code",
   "execution_count": 7,
   "metadata": {},
   "outputs": [
    {
     "data": {
      "text/plain": [
       "datetime.datetime(2023, 10, 4, 0, 0)"
      ]
     },
     "execution_count": 7,
     "metadata": {},
     "output_type": "execute_result"
    }
   ],
   "source": [
    "# Sikkim Flood Event Date\n",
    "Event_Date01 = dt.datetime(year=2023,month=10,day=4)\n",
    "Event_Date01"
   ]
  },
  {
   "cell_type": "markdown",
   "metadata": {},
   "source": [
    "## **Read File Names List**"
   ]
  },
  {
   "cell_type": "code",
   "execution_count": 19,
   "metadata": {},
   "outputs": [
    {
     "name": "stdout",
     "output_type": "stream",
     "text": [
      "  https://maxar-opendata.s3.us-west-2.amazonaws.com/events/India-Floods-Oct-2023/ard/45/120220122221/2022-03-07/10300100CE8D0400-visual.tif\n",
      "\n",
      "  https://maxar-opendata.s3.us-west-2.amazonaws.com/events/India-Floods-Oct-2023/ard/45/120220122220/2022-03-07/10300100CE8D0400-visual.tif\n",
      "\n",
      "  https://maxar-opendata.s3.us-west-2.amazonaws.com/events/India-Floods-Oct-2023/ard/45/120220122203/2022-03-07/10300100CE8D0400-visual.tif\n",
      "\n",
      "  https://maxar-opendata.s3.us-west-2.amazonaws.com/events/India-Floods-Oct-2023/ard/45/120220122202/2022-03-07/10300100CE8D0400-visual.tif\n",
      "\n",
      "  https://maxar-opendata.s3.us-west-2.amazonaws.com/events/India-Floods-Oct-2023/ard/45/120220122201/2022-03-07/10300100CE8D0400-visual.tif\n",
      "\n"
     ]
    }
   ],
   "source": [
    "# Maxar image url info text file location\n",
    "with open('Event File Names List.txt','r') as file: \n",
    "    File_Source_Links = file.readlines()\n",
    "\n",
    "# ARD = Analysis Ready Data\n",
    "\n",
    "# Display Sample Links\n",
    "for link in File_Source_Links[0:5]:\n",
    "    print(link)"
   ]
  },
  {
   "cell_type": "markdown",
   "metadata": {},
   "source": [
    "# **Download GeoTIFF Files**"
   ]
  },
  {
   "cell_type": "code",
   "execution_count": 24,
   "metadata": {},
   "outputs": [],
   "source": [
    "# File Name Extraction Pattern\n",
    "filename_re_Pattern = r'(\\w*[^\\/]\\w*\\.*\\w*\\.(tif|tiff))'"
   ]
  },
  {
   "cell_type": "code",
   "execution_count": 32,
   "metadata": {},
   "outputs": [
    {
     "ename": "NameError",
     "evalue": "name 'clear_output' is not defined",
     "output_type": "error",
     "traceback": [
      "\u001b[1;31m---------------------------------------------------------------------------\u001b[0m",
      "\u001b[1;31mNameError\u001b[0m                                 Traceback (most recent call last)",
      "Cell \u001b[1;32mIn[32], line 2\u001b[0m\n\u001b[0;32m      1\u001b[0m \u001b[38;5;28;01mfor\u001b[39;00m Link \u001b[38;5;129;01min\u001b[39;00m File_Source_Links:\n\u001b[1;32m----> 2\u001b[0m     \u001b[43mclear_output\u001b[49m()\n\u001b[0;32m      4\u001b[0m     \u001b[38;5;66;03m# Get File Name\u001b[39;00m\n\u001b[0;32m      5\u001b[0m     File_Name \u001b[38;5;241m=\u001b[39m re\u001b[38;5;241m.\u001b[39mfindall(filename_re_Pattern,Link)[\u001b[38;5;241m0\u001b[39m][\u001b[38;5;241m0\u001b[39m]\n",
      "\u001b[1;31mNameError\u001b[0m: name 'clear_output' is not defined"
     ]
    }
   ],
   "source": [
    "for Link in File_Source_Links:\n",
    "    clear_output()\n",
    "\n",
    "    # Get File Name\n",
    "    File_Name = re.findall(filename_re_Pattern,Link)[0][0]\n",
    "    print(File_Name)\n",
    "\n",
    "    # Create File Path\n",
    "    File_Path = os.path.join(folder_input_data,File_Name)\n",
    "    print(File_Path)\n",
    "\n",
    "    if not os.path.isfile(File_Path):\n",
    "        urllib.request.urlretrieve(Link,File_Path)\n",
    "        print('File Download Completed!')\n",
    "        print('\\n')\n",
    "    else:\n",
    "        print('File Already Exists')\n",
    "        print('\\n')"
   ]
  },
  {
   "cell_type": "code",
   "execution_count": null,
   "metadata": {},
   "outputs": [],
   "source": []
  }
 ],
 "metadata": {
  "kernelspec": {
   "display_name": "Python 3",
   "language": "python",
   "name": "python3"
  },
  "language_info": {
   "codemirror_mode": {
    "name": "ipython",
    "version": 3
   },
   "file_extension": ".py",
   "mimetype": "text/x-python",
   "name": "python",
   "nbconvert_exporter": "python",
   "pygments_lexer": "ipython3",
   "version": "3.11.6"
  }
 },
 "nbformat": 4,
 "nbformat_minor": 2
}
